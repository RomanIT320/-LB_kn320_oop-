{
 "cells": [
  {
   "cell_type": "code",
   "execution_count": 2,
   "metadata": {},
   "outputs": [
    {
     "name": "stdout",
     "output_type": "stream",
     "text": [
      "4\n",
      "1\n",
      "2\n",
      "4\n"
     ]
    }
   ],
   "source": [
    "\n",
    "class MyName:\n",
    "    \n",
    "    total_names = 0  # Class Variable\n",
    "\n",
    "    def __init__(self, name=None) -> None:\n",
    "        # Class attributes / Instance variables\n",
    "        self.name = name if name is not None else self.anonymous_user().name\n",
    "        MyName.total_names += 1  # modify class variable\n",
    "        self.my_id = self.total_names\n",
    "\n",
    "    \n",
    "    @classmethod\n",
    "    def anonymous_user(cls):\n",
    "        \"\"\"Classs method\n",
    "        \"\"\"\n",
    "        return cls(\"Anonymous\")\n",
    "\n",
    "\n",
    "\n",
    "n1 = MyName('name1')\n",
    "n2 = MyName('name2')\n",
    "n3 = MyName(None)\n",
    "\n",
    "print(MyName.total_names)\n",
    "\n",
    "print(n1.my_id)\n",
    "print(n2.my_id)\n",
    "print(n3.my_id)\n"
   ]
  },
  {
   "cell_type": "markdown",
   "metadata": {},
   "source": []
  }
 ],
 "metadata": {
  "kernelspec": {
   "display_name": "Python 3.10.6 64-bit",
   "language": "python",
   "name": "python3"
  },
  "language_info": {
   "codemirror_mode": {
    "name": "ipython",
    "version": 3
   },
   "file_extension": ".py",
   "mimetype": "text/x-python",
   "name": "python",
   "nbconvert_exporter": "python",
   "pygments_lexer": "ipython3",
   "version": "3.10.6"
  },
  "orig_nbformat": 4,
  "vscode": {
   "interpreter": {
    "hash": "a42ccb73e7d9bfdf27e036f1d2b8b681e55fc0743cc5586bc2474d4a60f4b886"
   }
  }
 },
 "nbformat": 4,
 "nbformat_minor": 2
}
