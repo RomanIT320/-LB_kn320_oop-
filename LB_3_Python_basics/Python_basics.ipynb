{
 "cells": [
  {
   "cell_type": "markdown",
   "metadata": {},
   "source": [
    "# Основні конструкції в Python\n",
    "\n",
    "### 1. Типи даних"
   ]
  },
  {
   "cell_type": "code",
   "execution_count": 38,
   "metadata": {},
   "outputs": [
    {
     "name": "stdout",
     "output_type": "stream",
     "text": [
      "хай буде так 1 це 2 ( ['a', 155, 1.14, 'НЕ москаль'] ) ({'cc'}, {'a': 'слово', 'b': 14})\n"
     ]
    }
   ],
   "source": [
    "a = \"хай буде так\"  # зміння з текстом\n",
    "b = \"це\"\n",
    "c = 1   #числова змінна\n",
    "d = 2   \n",
    "e = [\"a\", 155, 1.14, \"НЕ москаль\"]  # list\n",
    "f = {\"a\": \"слово\", \"b\": 14 }    # dict\n",
    "g = (\"a\", )     # tuple\n",
    "l = {\"cc\", }    #set\n",
    "\n",
    "print(a, c , b , d, '(', e ,')' ,(l, f))"
   ]
  },
  {
   "cell_type": "markdown",
   "metadata": {},
   "source": [
    "### 2. Вбудовані константи"
   ]
  },
  {
   "cell_type": "code",
   "execution_count": 39,
   "metadata": {},
   "outputs": [
    {
     "name": "stdout",
     "output_type": "stream",
     "text": [
      "перша константа False\n",
      "друга константа True\n",
      "третя константа None\n",
      "третя константа Ellipsis\n"
     ]
    }
   ],
   "source": [
    "print(\"перша константа\", False)\n",
    "print(\"друга константа\", True)\n",
    "print(\"третя константа\", None)\n",
    "print(\"третя константа\", Ellipsis)"
   ]
  },
  {
   "cell_type": "markdown",
   "metadata": {},
   "source": [
    "### 3. Вбудовані функції"
   ]
  },
  {
   "cell_type": "code",
   "execution_count": 40,
   "metadata": {},
   "outputs": [
    {
     "name": "stdout",
     "output_type": "stream",
     "text": [
      "12.5 є рівним 12.5\n",
      "\\\n",
      "0b11\n"
     ]
    }
   ],
   "source": [
    "print(abs(-12.5), f\"є рівним {abs(12.5)}\")\n",
    "print(chr(92))\n",
    "print(bin(3))"
   ]
  },
  {
   "cell_type": "markdown",
   "metadata": {},
   "source": [
    "### 4. Цикли"
   ]
  },
  {
   "cell_type": "code",
   "execution_count": 41,
   "metadata": {},
   "outputs": [
    {
     "name": "stdout",
     "output_type": "stream",
     "text": [
      "0\n",
      "1\n",
      "2\n",
      "3\n",
      " \n",
      "На позиції 0 знаходиться буква a\n",
      "На позиції 1 знаходиться буква b\n",
      "На позиції 2 знаходиться буква c\n",
      " \n",
      "На позиції Чорнобаївка було знищеноо 540 кацапів\n",
      "На позиції Гостометель було знищеноо 452 кацапів\n",
      "На позиції Харків було знищеноо 143 кацапів\n"
     ]
    }
   ],
   "source": [
    "for i in range(4):\n",
    "    print(i,)\n",
    "\n",
    "print(\" \")\n",
    "\n",
    "letters = [\"a\", \"b\", \"c\"]\n",
    "for i in range(len(letters)):\n",
    "    print(f\"На позиції {i} знаходиться буква {letters[i]}\")\n",
    "\n",
    "print(\" \")\n",
    "\n",
    "position_ = [\"Чорнобаївка\",\"Гостометель\",\"Харків\"]\n",
    "katsap = [\"540\",\"452\",\"143\"]\n",
    "for i in range(len(position_)):\n",
    "    print(f\"На позиції {position_[i]} було знищеноо {katsap[i]} кацапів\")"
   ]
  },
  {
   "cell_type": "markdown",
   "metadata": {},
   "source": [
    "### 5. Розгалуження"
   ]
  },
  {
   "cell_type": "code",
   "execution_count": 42,
   "metadata": {},
   "outputs": [
    {
     "name": "stdout",
     "output_type": "stream",
     "text": [
      "О пане вам пакетик потрібно\n",
      "Хлопчику яке пиво ти себе бачив\n"
     ]
    }
   ],
   "source": [
    "a = 19\n",
    "b = 17\n",
    "c = 18\n",
    "print(\"О пане вам пакетик потрібно\" if a > 18 else \"Хлопчику яке пиво ти себе бачив\")\n",
    "print(\"О пане вам пакетик потрібно\" if b > 18 else \"Хлопчику яке пиво ти себе бачив\")\n",
    "\n"
   ]
  },
  {
   "cell_type": "markdown",
   "metadata": {},
   "source": [
    "### 6. Код з помилкою"
   ]
  },
  {
   "cell_type": "code",
   "execution_count": 43,
   "metadata": {},
   "outputs": [
    {
     "name": "stdout",
     "output_type": "stream",
     "text": [
      "division by zero\n",
      "Міняй\n"
     ]
    }
   ],
   "source": [
    "B = 0\n",
    "try:\n",
    "    print(\"Таке число підійде\", 10/B, \"?\")\n",
    "except Exception as e:\n",
    "    print(e)\n",
    "finally:\n",
    "    print(\"Ну хай буде\" if B > 0 else \"Міняй\")\n",
    "\n"
   ]
  },
  {
   "cell_type": "markdown",
   "metadata": {},
   "source": [
    "### 7. Контекст менеджер"
   ]
  },
  {
   "cell_type": "code",
   "execution_count": 59,
   "metadata": {},
   "outputs": [
    {
     "name": "stdout",
     "output_type": "stream",
     "text": [
      "Ви запустили код 17 разів\n"
     ]
    }
   ],
   "source": [
    "a = a + 1\n",
    "\n",
    "with open(\"output.txt\", \"w\") as f:\n",
    "    f.write(f\"Ви запустили код {a} разів\")\n",
    "    \n",
    "with open(\"output.txt\", \"r\") as f:\n",
    "    for line in f:\n",
    "        print(line)\n",
    "\n",
    "\n",
    "    "
   ]
  },
  {
   "cell_type": "markdown",
   "metadata": {},
   "source": [
    "### 8. Python lambdas"
   ]
  },
  {
   "cell_type": "code",
   "execution_count": 67,
   "metadata": {},
   "outputs": [
    {
     "name": "stdout",
     "output_type": "stream",
     "text": [
      "Це просто функція: <function <lambda> at 0x0000021C4CDEC8B0>\n",
      "Це її виклик: Цей код написав: Роман Нестор\n",
      "\n",
      "А тепер те шо я набрив\n",
      "\n",
      "Викликаю калькулятор --> Якщо 13 помножити на 245 то получиться 3185\n"
     ]
    }
   ],
   "source": [
    "this_is_lambda = lambda first, last: f'Цей код написав: {first} {last}'\n",
    "print(\"Це просто функція:\", this_is_lambda)\n",
    "print(\"Це її виклик:\", this_is_lambda('Роман', 'Нестор'))\n",
    "\n",
    "print(\"\")\n",
    "print(\"А тепер те шо я набрив\")\n",
    "print(\"\")\n",
    "\n",
    "lambda_fun = lambda a, d: f'Якщо {a} помножити на {d} то получиться {a * d}'\n",
    "print(\"Викликаю калькулятор -->\", lambda_fun(13,245))"
   ]
  }
 ],
 "metadata": {
  "kernelspec": {
   "display_name": "Python 3.10.6 64-bit",
   "language": "python",
   "name": "python3"
  },
  "language_info": {
   "codemirror_mode": {
    "name": "ipython",
    "version": 3
   },
   "file_extension": ".py",
   "mimetype": "text/x-python",
   "name": "python",
   "nbconvert_exporter": "python",
   "pygments_lexer": "ipython3",
   "version": "3.10.6"
  },
  "orig_nbformat": 4,
  "vscode": {
   "interpreter": {
    "hash": "a42ccb73e7d9bfdf27e036f1d2b8b681e55fc0743cc5586bc2474d4a60f4b886"
   }
  }
 },
 "nbformat": 4,
 "nbformat_minor": 2
}
